{
 "cells": [
  {
   "cell_type": "markdown",
   "metadata": {},
   "source": [
    "# Objectives\n",
    "* To parse an XML file into a dictionary\n",
    "* To prepare ETLs for XML data\n",
    "\n",
    "# Why are we doing this?\n",
    "This is part of flatting the hierarchy of data because data in a table is usually flat for a relational database.\n",
    "\n",
    "# Methodology\n",
    "* Parsing the XML data into dictionaries using xmltodict\n",
    "* Converting the dictionary back into a JSON object"
   ]
  },
  {
   "cell_type": "code",
   "execution_count": 1,
   "metadata": {},
   "outputs": [],
   "source": [
    "# First, let's observe the data\n",
    "from IPython.display import Image\n",
    "Image(filename='images/example_xml.png')"
   ]
  },
  {
   "cell_type": "markdown",
   "metadata": {},
   "source": [
    "### What do we observe here?\n",
    "\n",
    "Each node contains many data variables for us to harvest. The goal is to extract each and every data variable for [Extract-Transform-Load (ETL)](https://gefyra.co/batch-etl-with-python-mysql-and-cron/).\n",
    "\n",
    "The question becomes:\n",
    "* How should I convert the above into data variables which I can manipulate?\n",
    "\n",
    "There are many ways to manipulate XML with Python, but I'm going to use one of the ways that make it easy.\n",
    "\n",
    "Caveats:\n",
    "* I'm not concerned about efficiency and optimization here. I just want to be able to manipulate the data to do my exploratory data analysis (EDA).\n",
    "* If you want speed, there are other libraries, such as `lxml`."
   ]
  },
  {
   "cell_type": "code",
   "execution_count": 2,
   "metadata": {},
   "outputs": [],
   "source": [
    "# Need to install xmltodict\n",
    "import xmltodict, json"
   ]
  },
  {
   "cell_type": "code",
   "execution_count": 3,
   "metadata": {},
   "outputs": [],
   "source": [
    "# Source file is in the data folder\n",
    "with open('data/example.xml') as f:\n",
    "    xml_data = f.read()\n",
    "\n",
    "# Output the data to check\n",
    "xml_data"
   ]
  },
  {
   "cell_type": "code",
   "execution_count": 4,
   "metadata": {},
   "outputs": [],
   "source": [
    "data = xmltodict.parse(xml_data)\n",
    "data"
   ]
  },
  {
   "cell_type": "code",
   "execution_count": 5,
   "metadata": {},
   "outputs": [],
   "source": [
    "# Use the JSON library to make the dictionary cleaner\n",
    "json_data = json.loads(json.dumps(xmltodict.parse(xml_data)))\n",
    "json_data"
   ]
  },
  {
   "cell_type": "markdown",
   "metadata": {},
   "source": [
    "As you can see, JSON data is much cleaner to look at."
   ]
  },
  {
   "cell_type": "code",
   "execution_count": 6,
   "metadata": {},
   "outputs": [],
   "source": [
    "# Example: Traversing team-info\n",
    "for team in json_data['sports-statistics']['sports-teams']['ifb-soccer-teams']['team-info']:\n",
    "    print(team['@alias'])"
   ]
  }
 ],
 "metadata": {
  "kernelspec": {
   "display_name": "Python 3",
   "language": "python",
   "name": "python3"
  },
  "language_info": {
   "codemirror_mode": {
    "name": "ipython",
    "version": 3
   },
   "file_extension": ".py",
   "mimetype": "text/x-python",
   "name": "python",
   "nbconvert_exporter": "python",
   "pygments_lexer": "ipython3",
   "version": "3.7.7"
  }
 },
 "nbformat": 4,
 "nbformat_minor": 4
}
